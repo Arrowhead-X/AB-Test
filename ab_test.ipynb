{
 "cells": [
  {
   "cell_type": "markdown",
   "metadata": {},
   "source": [
    "### AB Test in Python\n",
    "\n",
    "`Experimentation` has become a non-negotiable factor in keeping up with the dynamic nature of customers, helping to understand what works or doesnt work. \n",
    "\n",
    "The goal of experimentation is `learning.` Learning about customers, market segments, price sensitivity, choice, impact of specific features, the list is endless. AB Test is an interesting way to achieve the learning goal of experimentation.\n",
    "\n",
    "##### What is an AB Test?\n",
    "\n",
    "An AB Test simply means comparing two or multiple versions of a test component (Which can be a new feature to your software program, modification to your website load-time speed, advertising copy, or evening your Call-to-Action button). If it impacts your KPIs then it should be tested.\n",
    "\n",
    "An AB test always starts with an hypothesis. For example, you can propose that adding a new feature to your software program would increase the number of purchases that happen by users who visit your website. The truth is that you don't know if that holds true when the feature is eventually launched but that statement becomes your hypothesis, which you can then test with any experimentation method [An AB Test in this case].\n",
    "\n",
    "For this short project, we go through a simple AB Test life-cyle for changes made to a webpage. We want to know if there is a significant change in conversion rate if we switch to a new webpage. Since we do not know the answer yet, we can run an AB Test to verify our hypothesis.\n",
    "\n",
    "Our null hypothesis - Changing our webpage will increase our conversion rate by `3%`.\n",
    "\n",
    "Out hypothesis simply states that if we had a conversion rate on `15%` with the old page, launching our new page will increase this conversion rate to `18%`"
   ]
  },
  {
   "cell_type": "markdown",
   "metadata": {},
   "source": [
    "#### Project Outline\n",
    "1. Data importation and Preparation\n",
    "2. Defining our Experiment Criteria\n",
    "    - Statistical Power\n",
    "    - Minimum Detectible Effect (MDE)\n",
    "    - alpha\n",
    "    - Confidence Interval\n",
    "    - Sample Size\n",
    "3. Running the experiment\n",
    "4. Testing our results\n",
    "5. Decision Making\n"
   ]
  },
  {
   "cell_type": "markdown",
   "metadata": {},
   "source": [
    "#### Data Importation and Preparation"
   ]
  },
  {
   "cell_type": "code",
   "execution_count": 7,
   "metadata": {},
   "outputs": [],
   "source": [
    "# Import packages\n",
    "import pandas as pd\n",
    "import numpy as np\n",
    "import matplotlib.pyplot as plt\n",
    "import scipy.stats as stats\n",
    "import statsmodels.stats.api as sms\n",
    "import seaborn as sns\n",
    "from math import ceil\n",
    "\n",
    "%matplotlib inline\n",
    " "
   ]
  },
  {
   "cell_type": "code",
   "execution_count": 13,
   "metadata": {},
   "outputs": [],
   "source": [
    "#Load Dataset\n",
    "data = pd.read_csv(r\"C:\\Users\\samue\\OneDrive\\Documents\\Bobby\\Datasets\\AB Test\\ab_data.csv\")"
   ]
  },
  {
   "cell_type": "code",
   "execution_count": 14,
   "metadata": {},
   "outputs": [
    {
     "data": {
      "text/html": [
       "<div>\n",
       "<style scoped>\n",
       "    .dataframe tbody tr th:only-of-type {\n",
       "        vertical-align: middle;\n",
       "    }\n",
       "\n",
       "    .dataframe tbody tr th {\n",
       "        vertical-align: top;\n",
       "    }\n",
       "\n",
       "    .dataframe thead th {\n",
       "        text-align: right;\n",
       "    }\n",
       "</style>\n",
       "<table border=\"1\" class=\"dataframe\">\n",
       "  <thead>\n",
       "    <tr style=\"text-align: right;\">\n",
       "      <th></th>\n",
       "      <th>user_id</th>\n",
       "      <th>timestamp</th>\n",
       "      <th>group</th>\n",
       "      <th>landing_page</th>\n",
       "      <th>converted</th>\n",
       "    </tr>\n",
       "  </thead>\n",
       "  <tbody>\n",
       "    <tr>\n",
       "      <th>0</th>\n",
       "      <td>851104</td>\n",
       "      <td>2017-01-21 22:11:48.556739</td>\n",
       "      <td>control</td>\n",
       "      <td>old_page</td>\n",
       "      <td>0</td>\n",
       "    </tr>\n",
       "    <tr>\n",
       "      <th>1</th>\n",
       "      <td>804228</td>\n",
       "      <td>2017-01-12 08:01:45.159739</td>\n",
       "      <td>control</td>\n",
       "      <td>old_page</td>\n",
       "      <td>0</td>\n",
       "    </tr>\n",
       "    <tr>\n",
       "      <th>2</th>\n",
       "      <td>661590</td>\n",
       "      <td>2017-01-11 16:55:06.154213</td>\n",
       "      <td>treatment</td>\n",
       "      <td>new_page</td>\n",
       "      <td>0</td>\n",
       "    </tr>\n",
       "    <tr>\n",
       "      <th>3</th>\n",
       "      <td>853541</td>\n",
       "      <td>2017-01-08 18:28:03.143765</td>\n",
       "      <td>treatment</td>\n",
       "      <td>new_page</td>\n",
       "      <td>0</td>\n",
       "    </tr>\n",
       "    <tr>\n",
       "      <th>4</th>\n",
       "      <td>864975</td>\n",
       "      <td>2017-01-21 01:52:26.210827</td>\n",
       "      <td>control</td>\n",
       "      <td>old_page</td>\n",
       "      <td>1</td>\n",
       "    </tr>\n",
       "  </tbody>\n",
       "</table>\n",
       "</div>"
      ],
      "text/plain": [
       "   user_id                   timestamp      group landing_page  converted\n",
       "0   851104  2017-01-21 22:11:48.556739    control     old_page          0\n",
       "1   804228  2017-01-12 08:01:45.159739    control     old_page          0\n",
       "2   661590  2017-01-11 16:55:06.154213  treatment     new_page          0\n",
       "3   853541  2017-01-08 18:28:03.143765  treatment     new_page          0\n",
       "4   864975  2017-01-21 01:52:26.210827    control     old_page          1"
      ]
     },
     "execution_count": 14,
     "metadata": {},
     "output_type": "execute_result"
    }
   ],
   "source": [
    "data.head()"
   ]
  },
  {
   "cell_type": "markdown",
   "metadata": {},
   "source": [
    "#### Dataset Features\n",
    "- user_id - The unique identifier for each session. Every user has a unique identifier\n",
    "- timestamp - When the session happened.\n",
    "- group - The group which the user was assigned to for that specific session {control, treatment}\n",
    "- landing_page - Tells us if the user saw either the old page or the new page during their session.\n",
    "- converted - Whether the session ended in a conversion or not (binary, 0=not converted, 1=converted)"
   ]
  },
  {
   "cell_type": "code",
   "execution_count": 16,
   "metadata": {},
   "outputs": [
    {
     "data": {
      "text/html": [
       "<div>\n",
       "<style scoped>\n",
       "    .dataframe tbody tr th:only-of-type {\n",
       "        vertical-align: middle;\n",
       "    }\n",
       "\n",
       "    .dataframe tbody tr th {\n",
       "        vertical-align: top;\n",
       "    }\n",
       "\n",
       "    .dataframe thead th {\n",
       "        text-align: right;\n",
       "    }\n",
       "</style>\n",
       "<table border=\"1\" class=\"dataframe\">\n",
       "  <thead>\n",
       "    <tr style=\"text-align: right;\">\n",
       "      <th>landing_page</th>\n",
       "      <th>new_page</th>\n",
       "      <th>old_page</th>\n",
       "    </tr>\n",
       "    <tr>\n",
       "      <th>group</th>\n",
       "      <th></th>\n",
       "      <th></th>\n",
       "    </tr>\n",
       "  </thead>\n",
       "  <tbody>\n",
       "    <tr>\n",
       "      <th>control</th>\n",
       "      <td>1928</td>\n",
       "      <td>145274</td>\n",
       "    </tr>\n",
       "    <tr>\n",
       "      <th>treatment</th>\n",
       "      <td>145311</td>\n",
       "      <td>1965</td>\n",
       "    </tr>\n",
       "  </tbody>\n",
       "</table>\n",
       "</div>"
      ],
      "text/plain": [
       "landing_page  new_page  old_page\n",
       "group                           \n",
       "control           1928    145274\n",
       "treatment       145311      1965"
      ]
     },
     "execution_count": 16,
     "metadata": {},
     "output_type": "execute_result"
    }
   ],
   "source": [
    "pd.crosstab(data['group'], data['landing_page']) "
   ]
  },
  {
   "cell_type": "code",
   "execution_count": 18,
   "metadata": {},
   "outputs": [
    {
     "name": "stdout",
     "output_type": "stream",
     "text": [
      "user_id\n",
      "805339    2\n",
      "754884    2\n",
      "722274    2\n",
      "783176    2\n",
      "898232    2\n",
      "         ..\n",
      "642985    1\n",
      "771499    1\n",
      "923606    1\n",
      "712675    1\n",
      "715931    1\n",
      "Name: count, Length: 290584, dtype: int64\n",
      "There are 3894 users that appear multiple times in the dataset\n"
     ]
    }
   ],
   "source": [
    "#Let's check if any user has more than two sessions in our dataset\n",
    "session_counts = data['user_id'].value_counts(ascending=False)\n",
    "print(session_counts)\n",
    "multi_users = session_counts[session_counts > 1].count()\n",
    "print(f'There are {multi_users} users that appear multiple times in the dataset')"
   ]
  },
  {
   "cell_type": "code",
   "execution_count": 20,
   "metadata": {},
   "outputs": [
    {
     "name": "stdout",
     "output_type": "stream",
     "text": [
      "The updated dataset now has 286690 entries\n"
     ]
    }
   ],
   "source": [
    "#Drop users with multiple sessions so no user is sampled twice\n",
    "users_to_drop = session_counts[session_counts > 1].index\n",
    "data = data[~data['user_id'].isin(users_to_drop)]\n",
    "print(f'The updated dataset now has {data.shape[0]} entries')"
   ]
  },
  {
   "cell_type": "code",
   "execution_count": 2,
   "metadata": {},
   "outputs": [],
   "source": [
    "#Calculating the effect size for out AB test experiment with the stats model package\n",
    "\n",
    "effect_size = sms.proportion_effectsize(0.13,0.15)\n"
   ]
  },
  {
   "cell_type": "code",
   "execution_count": 11,
   "metadata": {},
   "outputs": [
    {
     "name": "stdout",
     "output_type": "stream",
     "text": [
      "We need 4720 users for our experiment\n"
     ]
    }
   ],
   "source": [
    "#Calculating required sample size for our AB Test experiment\n",
    "required_sample = sms.NormalIndPower().solve_power(\n",
    "                                        effect_size,\n",
    "                                        power = 0.8,\n",
    "                                        alpha = 0.05,\n",
    "                                        ratio = 1\n",
    "                                                )\n",
    "\n",
    "n = ceil(required_sample) #To the nearest whole number\n",
    "print(f'We need {n} users for our experiment')"
   ]
  },
  {
   "cell_type": "code",
   "execution_count": 21,
   "metadata": {},
   "outputs": [],
   "source": [
    "control_sample= data[data['group'] == 'control'].sample(n=n, random_state=1)\n",
    "treatment_sample = data[data['group'] == 'treatment'].sample(n=n, random_state=1)"
   ]
  },
  {
   "cell_type": "code",
   "execution_count": 22,
   "metadata": {},
   "outputs": [
    {
     "data": {
      "text/html": [
       "<div>\n",
       "<style scoped>\n",
       "    .dataframe tbody tr th:only-of-type {\n",
       "        vertical-align: middle;\n",
       "    }\n",
       "\n",
       "    .dataframe tbody tr th {\n",
       "        vertical-align: top;\n",
       "    }\n",
       "\n",
       "    .dataframe thead th {\n",
       "        text-align: right;\n",
       "    }\n",
       "</style>\n",
       "<table border=\"1\" class=\"dataframe\">\n",
       "  <thead>\n",
       "    <tr style=\"text-align: right;\">\n",
       "      <th></th>\n",
       "      <th>user_id</th>\n",
       "      <th>timestamp</th>\n",
       "      <th>group</th>\n",
       "      <th>landing_page</th>\n",
       "      <th>converted</th>\n",
       "    </tr>\n",
       "  </thead>\n",
       "  <tbody>\n",
       "    <tr>\n",
       "      <th>0</th>\n",
       "      <td>788447</td>\n",
       "      <td>2017-01-15 10:15:53.966766</td>\n",
       "      <td>control</td>\n",
       "      <td>old_page</td>\n",
       "      <td>0</td>\n",
       "    </tr>\n",
       "    <tr>\n",
       "      <th>1</th>\n",
       "      <td>644367</td>\n",
       "      <td>2017-01-04 13:27:00.815306</td>\n",
       "      <td>control</td>\n",
       "      <td>old_page</td>\n",
       "      <td>0</td>\n",
       "    </tr>\n",
       "    <tr>\n",
       "      <th>2</th>\n",
       "      <td>921476</td>\n",
       "      <td>2017-01-13 11:28:38.186516</td>\n",
       "      <td>control</td>\n",
       "      <td>old_page</td>\n",
       "      <td>0</td>\n",
       "    </tr>\n",
       "    <tr>\n",
       "      <th>3</th>\n",
       "      <td>844813</td>\n",
       "      <td>2017-01-09 02:20:49.471715</td>\n",
       "      <td>control</td>\n",
       "      <td>old_page</td>\n",
       "      <td>0</td>\n",
       "    </tr>\n",
       "    <tr>\n",
       "      <th>4</th>\n",
       "      <td>675390</td>\n",
       "      <td>2017-01-09 23:51:06.765370</td>\n",
       "      <td>control</td>\n",
       "      <td>old_page</td>\n",
       "      <td>0</td>\n",
       "    </tr>\n",
       "    <tr>\n",
       "      <th>...</th>\n",
       "      <td>...</td>\n",
       "      <td>...</td>\n",
       "      <td>...</td>\n",
       "      <td>...</td>\n",
       "      <td>...</td>\n",
       "    </tr>\n",
       "    <tr>\n",
       "      <th>9435</th>\n",
       "      <td>716806</td>\n",
       "      <td>2017-01-07 01:57:26.210472</td>\n",
       "      <td>treatment</td>\n",
       "      <td>new_page</td>\n",
       "      <td>1</td>\n",
       "    </tr>\n",
       "    <tr>\n",
       "      <th>9436</th>\n",
       "      <td>779389</td>\n",
       "      <td>2017-01-13 20:23:58.696497</td>\n",
       "      <td>treatment</td>\n",
       "      <td>new_page</td>\n",
       "      <td>0</td>\n",
       "    </tr>\n",
       "    <tr>\n",
       "      <th>9437</th>\n",
       "      <td>679407</td>\n",
       "      <td>2017-01-04 21:38:48.113542</td>\n",
       "      <td>treatment</td>\n",
       "      <td>new_page</td>\n",
       "      <td>0</td>\n",
       "    </tr>\n",
       "    <tr>\n",
       "      <th>9438</th>\n",
       "      <td>930299</td>\n",
       "      <td>2017-01-06 11:01:43.273952</td>\n",
       "      <td>treatment</td>\n",
       "      <td>new_page</td>\n",
       "      <td>0</td>\n",
       "    </tr>\n",
       "    <tr>\n",
       "      <th>9439</th>\n",
       "      <td>641486</td>\n",
       "      <td>2017-01-09 14:03:19.728862</td>\n",
       "      <td>treatment</td>\n",
       "      <td>new_page</td>\n",
       "      <td>1</td>\n",
       "    </tr>\n",
       "  </tbody>\n",
       "</table>\n",
       "<p>9440 rows × 5 columns</p>\n",
       "</div>"
      ],
      "text/plain": [
       "      user_id                   timestamp      group landing_page  converted\n",
       "0      788447  2017-01-15 10:15:53.966766    control     old_page          0\n",
       "1      644367  2017-01-04 13:27:00.815306    control     old_page          0\n",
       "2      921476  2017-01-13 11:28:38.186516    control     old_page          0\n",
       "3      844813  2017-01-09 02:20:49.471715    control     old_page          0\n",
       "4      675390  2017-01-09 23:51:06.765370    control     old_page          0\n",
       "...       ...                         ...        ...          ...        ...\n",
       "9435   716806  2017-01-07 01:57:26.210472  treatment     new_page          1\n",
       "9436   779389  2017-01-13 20:23:58.696497  treatment     new_page          0\n",
       "9437   679407  2017-01-04 21:38:48.113542  treatment     new_page          0\n",
       "9438   930299  2017-01-06 11:01:43.273952  treatment     new_page          0\n",
       "9439   641486  2017-01-09 14:03:19.728862  treatment     new_page          1\n",
       "\n",
       "[9440 rows x 5 columns]"
      ]
     },
     "execution_count": 22,
     "metadata": {},
     "output_type": "execute_result"
    }
   ],
   "source": [
    "ab_test_data = pd.concat([control_sample, treatment_sample], axis=0)\n",
    "ab_test_data.reset_index(drop=True, inplace=True)\n",
    "\n",
    "ab_test_data"
   ]
  },
  {
   "cell_type": "code",
   "execution_count": 23,
   "metadata": {},
   "outputs": [
    {
     "name": "stdout",
     "output_type": "stream",
     "text": [
      "<class 'pandas.core.frame.DataFrame'>\n",
      "RangeIndex: 9440 entries, 0 to 9439\n",
      "Data columns (total 5 columns):\n",
      " #   Column        Non-Null Count  Dtype \n",
      "---  ------        --------------  ----- \n",
      " 0   user_id       9440 non-null   int64 \n",
      " 1   timestamp     9440 non-null   object\n",
      " 2   group         9440 non-null   object\n",
      " 3   landing_page  9440 non-null   object\n",
      " 4   converted     9440 non-null   int64 \n",
      "dtypes: int64(2), object(3)\n",
      "memory usage: 368.9+ KB\n"
     ]
    }
   ],
   "source": [
    "ab_test_data.info()"
   ]
  },
  {
   "cell_type": "code",
   "execution_count": 24,
   "metadata": {},
   "outputs": [
    {
     "data": {
      "text/plain": [
       "group\n",
       "control      4720\n",
       "treatment    4720\n",
       "Name: count, dtype: int64"
      ]
     },
     "execution_count": 24,
     "metadata": {},
     "output_type": "execute_result"
    }
   ],
   "source": [
    "ab_test_data['group'].value_counts()"
   ]
  },
  {
   "cell_type": "code",
   "execution_count": 42,
   "metadata": {},
   "outputs": [
    {
     "data": {
      "text/plain": [
       "group\n",
       "control      0.121610\n",
       "treatment    0.112712\n",
       "Name: converted, dtype: float64"
      ]
     },
     "execution_count": 42,
     "metadata": {},
     "output_type": "execute_result"
    }
   ],
   "source": [
    "conversion_rates = ab_test_data.groupby('group')['converted']\n",
    "ab_test_data.groupby('group')['converted'].mean()\n"
   ]
  },
  {
   "cell_type": "code",
   "execution_count": 43,
   "metadata": {},
   "outputs": [
    {
     "data": {
      "text/html": [
       "<style type=\"text/css\">\n",
       "</style>\n",
       "<table id=\"T_e7b93\">\n",
       "  <thead>\n",
       "    <tr>\n",
       "      <th class=\"blank level0\" >&nbsp;</th>\n",
       "      <th id=\"T_e7b93_level0_col0\" class=\"col_heading level0 col0\" >standard_error</th>\n",
       "      <th id=\"T_e7b93_level0_col1\" class=\"col_heading level0 col1\" >comversion_rate</th>\n",
       "      <th id=\"T_e7b93_level0_col2\" class=\"col_heading level0 col2\" >standard_deviation</th>\n",
       "    </tr>\n",
       "    <tr>\n",
       "      <th class=\"index_name level0\" >group</th>\n",
       "      <th class=\"blank col0\" >&nbsp;</th>\n",
       "      <th class=\"blank col1\" >&nbsp;</th>\n",
       "      <th class=\"blank col2\" >&nbsp;</th>\n",
       "    </tr>\n",
       "  </thead>\n",
       "  <tbody>\n",
       "    <tr>\n",
       "      <th id=\"T_e7b93_level0_row0\" class=\"row_heading level0 row0\" >control</th>\n",
       "      <td id=\"T_e7b93_row0_col0\" class=\"data row0 col0\" >0.122</td>\n",
       "      <td id=\"T_e7b93_row0_col1\" class=\"data row0 col1\" >0.327</td>\n",
       "      <td id=\"T_e7b93_row0_col2\" class=\"data row0 col2\" >0.005</td>\n",
       "    </tr>\n",
       "    <tr>\n",
       "      <th id=\"T_e7b93_level0_row1\" class=\"row_heading level0 row1\" >treatment</th>\n",
       "      <td id=\"T_e7b93_row1_col0\" class=\"data row1 col0\" >0.113</td>\n",
       "      <td id=\"T_e7b93_row1_col1\" class=\"data row1 col1\" >0.316</td>\n",
       "      <td id=\"T_e7b93_row1_col2\" class=\"data row1 col2\" >0.005</td>\n",
       "    </tr>\n",
       "  </tbody>\n",
       "</table>\n"
      ],
      "text/plain": [
       "<pandas.io.formats.style.Styler at 0x22b2874da50>"
      ]
     },
     "execution_count": 43,
     "metadata": {},
     "output_type": "execute_result"
    }
   ],
   "source": [
    "#Calculate basic statistical properties of our experiment data\n",
    "std_dev = lambda x: np.std(x, ddof=0)\n",
    "std_error = lambda x: stats.sem(x, ddof=0)\n",
    "\n",
    "conversion_rates = conversion_rates.agg([np.mean, std_dev, std_error])\n",
    "conversion_rates.columns = {'comversion_rate', 'standard_deviation', 'standard_error'}\n",
    "conversion_rates.style.format('{:.3f}')"
   ]
  },
  {
   "cell_type": "code",
   "execution_count": 44,
   "metadata": {},
   "outputs": [],
   "source": [
    "from statsmodels.stats.proportion import proportions_ztest, proportion_confint"
   ]
  },
  {
   "cell_type": "code",
   "execution_count": 46,
   "metadata": {},
   "outputs": [],
   "source": [
    "control_results = ab_test_data[ab_test_data['group'] == 'control']['converted']\n",
    "treatment_results = ab_test_data[ab_test_data['group'] == 'treatment']['converted']\n",
    "\n",
    "n_con = control_results.count()\n",
    "n_treatment = treatment_results.count()"
   ]
  },
  {
   "cell_type": "code",
   "execution_count": 50,
   "metadata": {},
   "outputs": [
    {
     "name": "stdout",
     "output_type": "stream",
     "text": [
      "z statistics: 1.34\n",
      "p-value: 0.179\n",
      "ci 95% for control group: [0.112, 0.131]\n",
      "ci 95% for treatment group: [0.104, 0.122]\n"
     ]
    }
   ],
   "source": [
    "successes = [control_results.sum(), treatment_results.sum()]\n",
    "nobs = [n_con, n_treatment]\n",
    "\n",
    "z_stats, pval = proportions_ztest(successes, nobs=nobs)\n",
    "(lower_con, lower_treat), (upper_con, upper_treat) = proportion_confint(successes, nobs=nobs, alpha=0.05)\n",
    "\n",
    "print(f'z statistics: {z_stats:.2f}')\n",
    "print(f'p-value: {pval:.3f}')\n",
    "print(f'ci 95% for control group: [{lower_con:.3f}, {upper_con:.3f}]')\n",
    "print(f'ci 95% for treatment group: [{lower_treat:.3f}, {upper_treat:.3f}]')"
   ]
  },
  {
   "cell_type": "code",
   "execution_count": null,
   "metadata": {},
   "outputs": [],
   "source": [
    "# initialize all alpha variables, effect size variable and do an assert to check that they meet all conditions as a test\n",
    "#put the data in a DB and pull it out with python\n",
    "#T_test"
   ]
  }
 ],
 "metadata": {
  "kernelspec": {
   "display_name": "base",
   "language": "python",
   "name": "python3"
  },
  "language_info": {
   "codemirror_mode": {
    "name": "ipython",
    "version": 3
   },
   "file_extension": ".py",
   "mimetype": "text/x-python",
   "name": "python",
   "nbconvert_exporter": "python",
   "pygments_lexer": "ipython3",
   "version": "3.11.5"
  }
 },
 "nbformat": 4,
 "nbformat_minor": 2
}
